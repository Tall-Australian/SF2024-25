{
  "cells": [
    {
      "cell_type": "markdown",
      "metadata": {
        "id": "view-in-github",
        "colab_type": "text"
      },
      "source": [
        "<a href=\"https://colab.research.google.com/github/Tigereagle12345/SF2024-25/blob/main/SF_2024_2025.ipynb\" target=\"_parent\"><img src=\"https://colab.research.google.com/assets/colab-badge.svg\" alt=\"Open In Colab\"/></a>"
      ]
    },
    {
      "cell_type": "markdown",
      "metadata": {
        "id": "Eb7Fbso5WIUL"
      },
      "source": [
        "SECTION: SETUP\n",
        "\n",
        "NOTE: This section is soley to set up the work environment, and will not be included in training time."
      ]
    },
    {
      "cell_type": "code",
      "execution_count": 2,
      "metadata": {
        "colab": {
          "base_uri": "https://localhost:8080/"
        },
        "id": "-G67gS7bWKfb",
        "outputId": "9519d584-8280-427d-8b7a-fa285a1f6820"
      },
      "outputs": [
        {
          "output_type": "stream",
          "name": "stdout",
          "text": [
            "Requirement already satisfied: gdown in /usr/local/lib/python3.10/dist-packages (5.2.0)\n",
            "Requirement already satisfied: beautifulsoup4 in /usr/local/lib/python3.10/dist-packages (from gdown) (4.12.3)\n",
            "Requirement already satisfied: filelock in /usr/local/lib/python3.10/dist-packages (from gdown) (3.16.1)\n",
            "Requirement already satisfied: requests[socks] in /usr/local/lib/python3.10/dist-packages (from gdown) (2.32.3)\n",
            "Requirement already satisfied: tqdm in /usr/local/lib/python3.10/dist-packages (from gdown) (4.66.6)\n",
            "Requirement already satisfied: soupsieve>1.2 in /usr/local/lib/python3.10/dist-packages (from beautifulsoup4->gdown) (2.6)\n",
            "Requirement already satisfied: charset-normalizer<4,>=2 in /usr/local/lib/python3.10/dist-packages (from requests[socks]->gdown) (3.4.0)\n",
            "Requirement already satisfied: idna<4,>=2.5 in /usr/local/lib/python3.10/dist-packages (from requests[socks]->gdown) (3.10)\n",
            "Requirement already satisfied: urllib3<3,>=1.21.1 in /usr/local/lib/python3.10/dist-packages (from requests[socks]->gdown) (2.2.3)\n",
            "Requirement already satisfied: certifi>=2017.4.17 in /usr/local/lib/python3.10/dist-packages (from requests[socks]->gdown) (2024.8.30)\n",
            "Requirement already satisfied: PySocks!=1.5.7,>=1.5.6 in /usr/local/lib/python3.10/dist-packages (from requests[socks]->gdown) (1.7.1)\n"
          ]
        }
      ],
      "source": [
        "# Setup environment\n",
        "!rm -rf /content/sample_data\n",
        "!rm -f /content/class_names.json\n",
        "!rm -f /content/sign_mnist.zip\n",
        "!rm -f /content/sign_mnist_test.csv\n",
        "!rm -f /content/sign_mnist_train.csv\n",
        "!rm -rf /content/sign_mnist*\n",
        "!rm -f /content/MNIST_CSV.zip\n",
        "!rm -f /content/mnist_test.csv\n",
        "!rm -f /content/mnist_train.csv\n",
        "!rm -rf /content/mnist*\n",
        "!rm -f /content/fashion_mnist.zip\n",
        "!rm -f /content/fashion_mnist_test.csv\n",
        "!rm -f /content/fashion_mnist_train.csv\n",
        "!rm -rf /content/fashion_mnist*\n",
        "!pip install --upgrade gdown"
      ]
    },
    {
      "cell_type": "code",
      "execution_count": 3,
      "metadata": {
        "colab": {
          "base_uri": "https://localhost:8080/"
        },
        "id": "kHV-fNgLNUXu",
        "outputId": "e911107f-cdcc-4871-d568-aba7019e7171"
      },
      "outputs": [
        {
          "output_type": "stream",
          "name": "stdout",
          "text": [
            "Downloading...\n",
            "From: https://drive.google.com/uc?id=1eEKzfmEu6WKdRlohBQiqi3PhW_uIVJVP&confirm=t\n",
            "To: /content/MNIST_CSV.zip\n",
            "100% 15.5M/15.5M [00:00<00:00, 57.4MB/s]\n",
            "Archive:  /content/MNIST_CSV.zip\n",
            "  inflating: generate_mnist_csv.py   \n",
            "  inflating: mnist_test.csv          \n",
            "  inflating: mnist_train.csv         \n",
            "  inflating: readme.md               \n",
            "Downloading...\n",
            "From: https://drive.google.com/uc?id=13CrcGGhwzHR8BXnp_f_JDr52LugCYBjq&confirm=t\n",
            "To: /content/fashion_mnist.zip\n",
            "100% 38.9M/38.9M [00:01<00:00, 35.5MB/s]\n",
            "Archive:  /content/fashion_mnist.zip\n",
            "  inflating: fashion_mnist_test.csv  \n",
            "  inflating: fashion_mnist_train.csv  \n",
            "Downloading...\n",
            "From: https://drive.google.com/uc?id=1pSCgqi4l954aBEXBeZ5QcGNPrScD86M4&confirm=t\n",
            "To: /content/sign_mnist.zip\n",
            "100% 29.7M/29.7M [00:00<00:00, 81.9MB/s]\n",
            "Archive:  /content/sign_mnist.zip\n",
            "  inflating: sign_mnist_train.csv    \n",
            "  inflating: sign_mnist_test.csv     \n"
          ]
        }
      ],
      "source": [
        "!gdown \"1eEKzfmEu6WKdRlohBQiqi3PhW_uIVJVP&confirm=t\"                            # Downloads MNIST dataset\n",
        "!unzip -F \"/content/MNIST_CSV.zip\" && rm -f \"/content/MNIST_CSV.zip\" && rm -f \"/content/readme.md\" && rm -f \"/content/generate_mnist_csv.py\"\n",
        "\n",
        "!gdown \"13CrcGGhwzHR8BXnp_f_JDr52LugCYBjq&confirm=t\"                            # Downloads Fashion-MNIST dataset\n",
        "!unzip -F \"/content/fashion_mnist.zip\" && rm -f \"/content/fashion_mnist.zip\"\n",
        "\n",
        "!gdown \"1pSCgqi4l954aBEXBeZ5QcGNPrScD86M4&confirm=t\"                            # Downloads Sign Language MNIST dataset\n",
        "!unzip -F \"/content/sign_mnist.zip\" && rm -f \"/content/sign_mnist.zip\""
      ]
    },
    {
      "cell_type": "markdown",
      "metadata": {
        "id": "swBlTaC4V7dU"
      },
      "source": [
        "SECTION: PREPROCESSING\n",
        "\n",
        "NOTE: This section is for the trasformation of datasets from csv to images, and will not be included in training time."
      ]
    },
    {
      "cell_type": "code",
      "execution_count": 4,
      "metadata": {
        "id": "HzXvCQIbT_As"
      },
      "outputs": [],
      "source": [
        "import os\n",
        "import json\n",
        "from PIL import Image\n",
        "import pandas as pd\n",
        "import numpy as np\n",
        "import datetime\n",
        "import random\n",
        "from tqdm import tqdm"
      ]
    },
    {
      "cell_type": "code",
      "execution_count": 5,
      "metadata": {
        "id": "F9ax1jdGyI00"
      },
      "outputs": [],
      "source": [
        "def proccessDataset(dataset_path, label, header):                               # Loads and reformats datasets\n",
        "  df = pd.read_csv(dataset_path, header=header)\n",
        "  print(df.shape)\n",
        "  data = pd.DataFrame(columns=[\"label\", \"img\"])\n",
        "  data[\"label\"] = df[label]\n",
        "  df = df.drop(label, axis=1)\n",
        "  data[\"img\"] = df.apply(lambda x: x.to_numpy().reshape(28,28), axis=1)\n",
        "  return data"
      ]
    },
    {
      "cell_type": "code",
      "execution_count": 6,
      "metadata": {
        "id": "5BR3UolpxVq_"
      },
      "outputs": [],
      "source": [
        "def genMetadata(classes, data):                                                 # Generates dataset metadata\n",
        "  metadata = {}\n",
        "  counts = data[\"label\"].value_counts()\n",
        "  for label in data[\"label\"].unique():\n",
        "    label = int(label)\n",
        "    metadata[label] = {\"name\":classes[label],\"count\":int(counts[label])}\n",
        "  print(metadata)\n",
        "  return metadata"
      ]
    },
    {
      "cell_type": "code",
      "execution_count": 7,
      "metadata": {
        "id": "M1EZG6CnzoHz"
      },
      "outputs": [],
      "source": [
        "def saveImages(save_dir, data, metadata, tt):                                   # Saves out images\n",
        "  if os.path.exists(f\"{save_dir}{tt}\"):                                         # Determine if a save directory already exists, and if not, make one.\n",
        "    os.system(f\"rm -rf {save_dir}{tt}\")                                         # Deletes existing save directory to prevent duplication of data\n",
        "    os.makedirs(f\"{save_dir}{tt}\")\n",
        "  else:\n",
        "    os.makedirs(f\"{save_dir}{tt}\")\n",
        "\n",
        "  for label in data[\"label\"].unique():                                          # Create a dataset for each class\n",
        "    if not os.path.exists(f\"{save_dir}{tt}{str(label)}/\"):\n",
        "      os.mkdir(f\"{save_dir}{tt}{str(label)}/\")\n",
        "\n",
        "  data[\"img\"] = data.apply(lambda x: Image.fromarray((x[\"img\"] * 255).astype(np.uint8)), axis=1) # Transform each array in the \"img\" column to be an image with the Pillow format\n",
        "  data.apply(lambda x: x[\"img\"].save(f\"{save_dir}{tt}{str(x['label'])}/{str(datetime.datetime.now().timestamp()).replace('.','_')}.png\"), axis=1) # Save each image to the save directory\n",
        "  with open(f\"{save_dir}{tt}metadata.json\", \"w\") as file:\n",
        "    file.write(json.dumps(metadata))"
      ]
    },
    {
      "cell_type": "code",
      "execution_count": 8,
      "metadata": {
        "id": "YjxUtbjq7cNJ"
      },
      "outputs": [],
      "source": [
        "def setup(dataset_path, label, classes, save_dir, header):                      # Applies preprocessing to datasets\n",
        "  if \"train\" in dataset_path:\n",
        "    tt = \"train/\"\n",
        "  elif \"test\" in dataset_path:\n",
        "    tt = \"test/\"\n",
        "  else:\n",
        "    exit()                                                                      # Exits if invalid dataset files are provided\n",
        "\n",
        "  data = proccessDataset(dataset_path, label, header)                           # Processes dataset\n",
        "  metadata = genMetadata(classes, data)                                         # Generates metadata\n",
        "  saveImages(save_dir, data, metadata, tt)                                      # Saves images"
      ]
    },
    {
      "cell_type": "code",
      "execution_count": 9,
      "metadata": {
        "colab": {
          "base_uri": "https://localhost:8080/"
        },
        "id": "dcY-2eNf0dpi",
        "outputId": "423c0606-afb0-4f07-cafd-9b977f1e958c"
      },
      "outputs": [
        {
          "output_type": "stream",
          "name": "stdout",
          "text": [
            "(60000, 785)\n",
            "{5: {'name': '5', 'count': 5421}, 0: {'name': '0', 'count': 5923}, 4: {'name': '4', 'count': 5842}, 1: {'name': '1', 'count': 6742}, 9: {'name': '9', 'count': 5949}, 2: {'name': '2', 'count': 5958}, 3: {'name': '3', 'count': 6131}, 6: {'name': '6', 'count': 5918}, 7: {'name': '7', 'count': 6265}, 8: {'name': '8', 'count': 5851}}\n",
            "(10000, 785)\n",
            "{7: {'name': '7', 'count': 1028}, 2: {'name': '2', 'count': 1032}, 1: {'name': '1', 'count': 1135}, 0: {'name': '0', 'count': 980}, 4: {'name': '4', 'count': 982}, 9: {'name': '9', 'count': 1009}, 5: {'name': '5', 'count': 892}, 6: {'name': '6', 'count': 958}, 3: {'name': '3', 'count': 1010}, 8: {'name': '8', 'count': 974}}\n"
          ]
        }
      ],
      "source": [
        "setup(\"/content/mnist_train.csv\",0,[\"0\",\"1\",\"2\",\"3\",\"4\",\"5\",\"6\",\"7\",\"8\",\"9\"],\"/content/mnist/\",None) # Setup MNIST training dataset\n",
        "setup(\"/content/mnist_test.csv\",0,[\"0\",\"1\",\"2\",\"3\",\"4\",\"5\",\"6\",\"7\",\"8\",\"9\"],\"/content/mnist/\",None)  # Setup MNIST testing dataset\n",
        "!mv /content/mnist_train.csv /content/mnist/\n",
        "!mv /content/mnist_test.csv /content/mnist/"
      ]
    },
    {
      "cell_type": "code",
      "execution_count": 10,
      "metadata": {
        "colab": {
          "base_uri": "https://localhost:8080/"
        },
        "id": "I750NgATJK03",
        "outputId": "4abb36df-e1ac-44c0-ee09-c091120e366e"
      },
      "outputs": [
        {
          "output_type": "stream",
          "name": "stdout",
          "text": [
            "(60000, 785)\n",
            "{9: {'name': 'Ankle boot', 'count': 6000}, 0: {'name': 'T-shirt/top', 'count': 6000}, 3: {'name': 'Dress', 'count': 6000}, 2: {'name': 'Pullover', 'count': 6000}, 7: {'name': 'Sneaker', 'count': 6000}, 5: {'name': 'Sandal', 'count': 6000}, 1: {'name': 'Trouser', 'count': 6000}, 6: {'name': 'Shirt', 'count': 6000}, 4: {'name': 'Coat', 'count': 6000}, 8: {'name': 'Bag', 'count': 6000}}\n",
            "(10000, 785)\n",
            "{9: {'name': 'Ankle boot', 'count': 1000}, 2: {'name': 'Pullover', 'count': 1000}, 1: {'name': 'Trouser', 'count': 1000}, 6: {'name': 'Shirt', 'count': 1000}, 4: {'name': 'Coat', 'count': 1000}, 5: {'name': 'Sandal', 'count': 1000}, 7: {'name': 'Sneaker', 'count': 1000}, 3: {'name': 'Dress', 'count': 1000}, 8: {'name': 'Bag', 'count': 1000}, 0: {'name': 'T-shirt/top', 'count': 1000}}\n"
          ]
        }
      ],
      "source": [
        "setup(\"/content/fashion_mnist_train.csv\",\"label\",[\"T-shirt/top\",\"Trouser\",\"Pullover\",\"Dress\",\"Coat\",\"Sandal\",\"Shirt\",\"Sneaker\",\"Bag\",\"Ankle boot\"],\"/content/fashion_mnist/\",0) # Setup Fashion-MNIST training dataset\n",
        "setup(\"/content/fashion_mnist_test.csv\",\"label\",[\"T-shirt/top\",\"Trouser\",\"Pullover\",\"Dress\",\"Coat\",\"Sandal\",\"Shirt\",\"Sneaker\",\"Bag\",\"Ankle boot\"],\"/content/fashion_mnist/\",0)  # Setup Fashion-MNIST testing dataset\n",
        "!mv /content/fashion_mnist_train.csv /content/fashion_mnist/\n",
        "!mv /content/fashion_mnist_test.csv /content/fashion_mnist/"
      ]
    },
    {
      "cell_type": "code",
      "execution_count": 11,
      "metadata": {
        "colab": {
          "base_uri": "https://localhost:8080/"
        },
        "id": "6vs6dmYNgP9Y",
        "outputId": "3fbb4704-bca6-4512-9ab3-32fb104b3455"
      },
      "outputs": [
        {
          "output_type": "stream",
          "name": "stdout",
          "text": [
            "(27455, 785)\n",
            "{3: {'name': 'D', 'count': 1196}, 6: {'name': 'G', 'count': 1090}, 2: {'name': 'C', 'count': 1144}, 13: {'name': 'N', 'count': 1151}, 16: {'name': 'Q', 'count': 1279}, 8: {'name': 'I', 'count': 1162}, 22: {'name': 'W', 'count': 1225}, 18: {'name': 'S', 'count': 1199}, 10: {'name': 'K', 'count': 1114}, 20: {'name': 'U', 'count': 1161}, 17: {'name': 'R', 'count': 1294}, 19: {'name': 'T', 'count': 1186}, 21: {'name': 'V', 'count': 1082}, 23: {'name': 'X', 'count': 1164}, 24: {'name': 'Y', 'count': 1118}, 1: {'name': 'B', 'count': 1010}, 12: {'name': 'M', 'count': 1055}, 11: {'name': 'L', 'count': 1241}, 15: {'name': 'P', 'count': 1088}, 4: {'name': 'E', 'count': 957}, 0: {'name': 'A', 'count': 1126}, 5: {'name': 'F', 'count': 1204}, 7: {'name': 'H', 'count': 1013}, 14: {'name': 'O', 'count': 1196}}\n",
            "(7172, 785)\n",
            "{6: {'name': 'G', 'count': 348}, 5: {'name': 'F', 'count': 247}, 10: {'name': 'K', 'count': 331}, 0: {'name': 'A', 'count': 331}, 3: {'name': 'D', 'count': 245}, 21: {'name': 'V', 'count': 346}, 14: {'name': 'O', 'count': 246}, 7: {'name': 'H', 'count': 436}, 8: {'name': 'I', 'count': 288}, 12: {'name': 'M', 'count': 394}, 4: {'name': 'E', 'count': 498}, 22: {'name': 'W', 'count': 206}, 2: {'name': 'C', 'count': 310}, 15: {'name': 'P', 'count': 347}, 1: {'name': 'B', 'count': 432}, 13: {'name': 'N', 'count': 291}, 19: {'name': 'T', 'count': 248}, 18: {'name': 'S', 'count': 246}, 23: {'name': 'X', 'count': 267}, 17: {'name': 'R', 'count': 144}, 20: {'name': 'U', 'count': 266}, 16: {'name': 'Q', 'count': 164}, 11: {'name': 'L', 'count': 209}, 24: {'name': 'Y', 'count': 332}}\n"
          ]
        }
      ],
      "source": [
        "setup(\"/content/sign_mnist_train.csv\",\"label\",[\"A\",\"B\",\"C\",\"D\",\"E\",\"F\",\"G\",\"H\",\"I\",\"J\",\"K\",\"L\",\"M\",\"N\",\"O\",\"P\",\"Q\",\"R\",\"S\",\"T\",\"U\",\"V\",\"W\",\"X\",\"Y\",\"Z\"],\"/content/sign_mnist/\", 0) # Setup Sign Language MNIST training dataset\n",
        "setup(\"/content/sign_mnist_test.csv\",\"label\",[\"A\",\"B\",\"C\",\"D\",\"E\",\"F\",\"G\",\"H\",\"I\",\"J\",\"K\",\"L\",\"M\",\"N\",\"O\",\"P\",\"Q\",\"R\",\"S\",\"T\",\"U\",\"V\",\"W\",\"X\",\"Y\",\"Z\"],\"/content/sign_mnist/\", 0)  # Setup Sign Language MNIST testing dataset\n",
        "!mv /content/sign_mnist_train.csv /content/sign_mnist/\n",
        "!mv /content/sign_mnist_test.csv /content/sign_mnist/"
      ]
    },
    {
      "cell_type": "code",
      "execution_count": 12,
      "metadata": {
        "id": "djmrT8B1P2dJ"
      },
      "outputs": [],
      "source": [
        "def partition(sizes, dataset, subset):                                          # Partition datasets into groups of varying sizes\n",
        "  if subset not in [\"train\", \"test\"]:\n",
        "    raise KeyError(f\"Subset {subset} does not exist!\")\n",
        "\n",
        "  for size in sizes:\n",
        "    if size%10 != 0:\n",
        "      raise ValueError(f\"Dataset of size {size} does not allow for equal representation between classes!\")\n",
        "\n",
        "  imgs = {}\n",
        "  dirs = os.listdir(f\"/content/{dataset}/{subset}/\")\n",
        "  dirs.remove(\"metadata.json\")\n",
        "  for dir in dirs:\n",
        "    imgs[dir] = []\n",
        "    for img in os.listdir(f\"/content/{dataset}/{subset}/{dir}/\"):\n",
        "      imgs[dir].append(img)\n",
        "\n",
        "  datasets = {}\n",
        "  for size in sizes:\n",
        "    datasets[size] = {}\n",
        "    for label in (pbar := tqdm(list(range(0,10)))):\n",
        "      if subset == \"train\":\n",
        "        pbar.set_description(f\"Processing {dataset}_{size}\")\n",
        "      else:\n",
        "        pbar.set_description(f\"Processing {dataset}_{subset}\")\n",
        "\n",
        "      if dataset == \"sign_mnist\":\n",
        "        if label == 4:\n",
        "          label = 10\n",
        "        elif label == 9:\n",
        "          label = 11\n",
        "\n",
        "      label = str(label)\n",
        "      datasets[size][label] = random.sample(imgs[label], int(size / 10))\n",
        "\n",
        "      if subset == \"train\":\n",
        "        if os.path.exists(f\"/content/{dataset}_{size}/{label}/\"):\n",
        "          os.system(f\"rm -rf /content/{dataset}_{size}/{label}/\")\n",
        "          os.makedirs(f\"/content/{dataset}_{size}/{label}/\")\n",
        "        else:\n",
        "          os.makedirs(f\"/content/{dataset}_{size}/{label}/\")\n",
        "\n",
        "        for img_name in datasets[size][label]:\n",
        "          img = Image.open(f\"/content/{dataset}/{subset}/{label}/{img_name}\")\n",
        "          img.save(f\"/content/{dataset}_{size}/{label}/{img_name}\")\n",
        "      else:\n",
        "        if os.path.exists(f\"/content/{dataset}_{subset}/{label}/\"):\n",
        "          os.system(f\"rm -rf /content/{dataset}_{subset}/{label}/\")\n",
        "          os.makedirs(f\"/content/{dataset}_{subset}/{label}/\")\n",
        "        else:\n",
        "          os.makedirs(f\"/content/{dataset}_{subset}/{label}/\")\n",
        "\n",
        "        for img_name in datasets[size][label]:\n",
        "          img = Image.open(f\"/content/{dataset}/{subset}/{label}/{img_name}\")\n",
        "          img.save(f\"/content/{dataset}_{subset}/{label}/{img_name}\")"
      ]
    },
    {
      "cell_type": "code",
      "execution_count": 13,
      "metadata": {
        "id": "6kEOfd8Maq_v",
        "colab": {
          "base_uri": "https://localhost:8080/"
        },
        "outputId": "b3f6e221-f7ec-48c6-bba9-f6eac9e81f80"
      },
      "outputs": [
        {
          "output_type": "stream",
          "name": "stderr",
          "text": [
            "Processing mnist_100: 100%|██████████| 10/10 [00:00<00:00, 135.59it/s]\n",
            "Processing mnist_1000: 100%|██████████| 10/10 [00:00<00:00, 18.45it/s]\n",
            "Processing mnist_10000: 100%|██████████| 10/10 [00:05<00:00,  1.68it/s]\n",
            "Processing mnist_test: 100%|██████████| 10/10 [00:00<00:00, 25.69it/s]\n",
            "Processing fashion_mnist_100: 100%|██████████| 10/10 [00:00<00:00, 157.89it/s]\n",
            "Processing fashion_mnist_1000: 100%|██████████| 10/10 [00:00<00:00, 24.56it/s]\n",
            "Processing fashion_mnist_10000: 100%|██████████| 10/10 [00:03<00:00,  2.54it/s]\n",
            "Processing fashion_mnist_test: 100%|██████████| 10/10 [00:00<00:00, 20.35it/s]\n",
            "Processing sign_mnist_100: 100%|██████████| 10/10 [00:00<00:00, 156.85it/s]\n",
            "Processing sign_mnist_1000: 100%|██████████| 10/10 [00:00<00:00, 19.95it/s]\n",
            "Processing sign_mnist_10000: 100%|██████████| 10/10 [00:04<00:00,  2.02it/s]\n",
            "Processing sign_mnist_test: 100%|██████████| 10/10 [00:00<00:00, 13.94it/s]\n"
          ]
        }
      ],
      "source": [
        "partition([100, 1000, 10000], \"mnist\", \"train\")                                 # Partition the MNIST training dataset into subdatasets of 100, 1000, and 10000 images\n",
        "partition([1000], \"mnist\", \"test\")                                               # Partition the MNIST testing dataset into a subdataset of 1000 images\n",
        "\n",
        "partition([100, 1000, 10000], \"fashion_mnist\", \"train\")                         # Partition the Fashion-MNIST training dataset into subdatasets of 100, 1000, and 10000 images\n",
        "partition([1000], \"fashion_mnist\", \"test\")                                       # Partition the Fashion-MNIST testing dataset into a subdataset of 1000 images\n",
        "\n",
        "partition([100, 1000, 10000], \"sign_mnist\", \"train\")                            # Partition the Sign-Language-MNIST training dataset into subdatasets of 100, 1000, and 10000 images\n",
        "partition([1000], \"sign_mnist\", \"test\")                                          # Partition the Sign-Language-MNIST testing dataset into a subdataset of 1000 images"
      ]
    },
    {
      "cell_type": "markdown",
      "metadata": {
        "id": "YsUnWSr3Wb_t"
      },
      "source": [
        "SECTION: MODEL SETUP\n",
        "\n",
        "NOTE: This section sets up the model and will not be included in the training time."
      ]
    },
    {
      "cell_type": "code",
      "execution_count": 14,
      "metadata": {
        "id": "6Wm3nC6WWp7T"
      },
      "outputs": [],
      "source": [
        "import os\n",
        "import tensorflow as tf\n",
        "import json\n",
        "import pandas as pd\n",
        "from tqdm import tqdm"
      ]
    },
    {
      "cell_type": "code",
      "execution_count": 15,
      "metadata": {
        "id": "lFuQGjRpXXL7"
      },
      "outputs": [],
      "source": [
        "def buildModel(dataset_path):                                                   # Builds tensorflow model\n",
        "  dataset_url = dataset_path                                                    # Set dataset url\n",
        "  activation = \"relu\"                                                           # Set activation function to ReLU\n",
        "  batch_size = 10                                                               # Set batch size to 10\n",
        "  image_size = (28,28)                                                          # Set image size to 28 by 28 pixels\n",
        "  seed = 123                                                                    # Set seed to 123\n",
        "  validation_split = 0.2                                                        # Set training validation split to 80% 20%\n",
        "  num_classes = 10                                                              # Set number of classes to 10\n",
        "\n",
        "  train_ds = tf.keras.utils.image_dataset_from_directory(\n",
        "  dataset_url,\n",
        "  validation_split=validation_split,\n",
        "  subset=\"training\",\n",
        "  seed=seed,\n",
        "  image_size=image_size,\n",
        "  batch_size=batch_size)                                                        # Create training subdataset\n",
        "\n",
        "  val_ds = tf.keras.utils.image_dataset_from_directory(\n",
        "  dataset_url,\n",
        "  validation_split=validation_split,\n",
        "  subset=\"validation\",\n",
        "  seed=seed,\n",
        "  image_size=image_size,\n",
        "  batch_size=batch_size)                                                        # Create validation subdataset\n",
        "\n",
        "  class_names = train_ds.class_names                                            # Save class names as json. NOTE: This is because tensorflow assigns class ids based on read order and can create weird distributions\n",
        "  print(class_names)\n",
        "\n",
        "  class_json = {}\n",
        "  for i in range(len(class_names)):\n",
        "    class_json[i] = class_names[i]\n",
        "\n",
        "  with open(f\"{dataset_path}/class_names.json\", \"w\") as file:\n",
        "    file.write(json.dumps(class_json))\n",
        "\n",
        "  normalization_layer = tf.keras.layers.Rescaling(1./255)                       # Create a normalization layer to scale image data between 0 and 1\n",
        "\n",
        "  normalized_ds = train_ds.map(lambda x, y: (normalization_layer(x), y))        # Apply normilization layer to training dataset\n",
        "  image_batch, labels_batch = next(iter(normalized_ds))\n",
        "\n",
        "  first_image = image_batch[0]                                                  # Prints minimum and maximum pixel values to confirm success\n",
        "  print(np.min(first_image), np.max(first_image))\n",
        "\n",
        "  AUTOTUNE = tf.data.AUTOTUNE                                                   # Optimises CPU usage for input pipeline at runtime (https://stackoverflow.com/questions/56613155/tensorflow-tf-data-autotune)\n",
        "\n",
        "  train_ds = train_ds.cache().prefetch(buffer_size=AUTOTUNE)                    # Applies AUTOTUNE to training subdataset and caches images\n",
        "  val_ds = val_ds.cache().prefetch(buffer_size=AUTOTUNE)                        # Applies AUTOTUNE to validation subdataset and caches images\n",
        "\n",
        "  # data_augmentation = tf.keras.Sequential([                                     # Creates data augmentation layers\n",
        "  # tf.keras.layers.RandomFlip(\"horizontal_and_vertical\"),                        # Introduces random horizontal and vertical flips into the data\n",
        "  # tf.keras.layers.RandomRotation(0.2),                                          # Introduces a random rotation of the data\n",
        "  # tf.keras.layers.RandomZoom(0.2, 0.5)                                          # Introduces a random zoom in the data\n",
        "  # ])\n",
        "\n",
        "  try:                                                                          # Set up TPU for use\n",
        "    resolver = tf.distribute.cluster_resolver.TPUClusterResolver()\n",
        "    tf.config.experimental_connect_to_cluster(resolver)\n",
        "    tf.tpu.experimental.initialize_tpu_system(resolver)\n",
        "    print(\"All devices: \", tf.config.list_logical_devices('TPU'))\n",
        "    tpu = True\n",
        "    strategy = tf.distribute.TPUStrategy(resolver)\n",
        "  except ValueError:\n",
        "    strategy = tf.distribute.get_strategy()\n",
        "    tpu = False\n",
        "\n",
        "  device_name = tf.test.gpu_device_name() if len(tf.test.gpu_device_name()) > 0 else \"/CPU:0\"\n",
        "\n",
        "  with strategy.scope() if tpu else tf.device(device_name):\n",
        "    model = tf.keras.Sequential([                                               # Build model\n",
        "      # data_augmentation,\n",
        "      tf.keras.layers.Rescaling(1./255),\n",
        "      tf.keras.layers.Conv2D(32, 3, activation=activation),\n",
        "      tf.keras.layers.MaxPooling2D(),\n",
        "      tf.keras.layers.Conv2D(32, 3, activation=activation),\n",
        "      tf.keras.layers.MaxPooling2D(),\n",
        "      tf.keras.layers.Conv2D(32, 3, activation=activation),\n",
        "      tf.keras.layers.MaxPooling2D(),\n",
        "      tf.keras.layers.Flatten(),\n",
        "      tf.keras.layers.Dense(4096, activation=activation),\n",
        "      tf.keras.layers.Dense(num_classes, activation=\"softmax\"),\n",
        "    ])\n",
        "\n",
        "  model.compile(                                                                # Compile model\n",
        "  optimizer='adam',\n",
        "  loss=tf.keras.losses.SparseCategoricalCrossentropy(from_logits=True),\n",
        "  metrics=['accuracy'])\n",
        "\n",
        "  return train_ds, val_ds, model"
      ]
    },
    {
      "cell_type": "code",
      "execution_count": 16,
      "metadata": {
        "id": "NF5OdTKfpcgm"
      },
      "outputs": [],
      "source": [
        "dataset = \"mnist\"\n",
        "size = 10000\n",
        "dataset_path = f\"/content/{dataset}_{size}\"\n",
        "\n",
        "epochs = 100"
      ]
    },
    {
      "cell_type": "code",
      "execution_count": 17,
      "metadata": {
        "id": "uCIvw_Lse7bp",
        "colab": {
          "base_uri": "https://localhost:8080/"
        },
        "outputId": "f7b000a9-7eda-4531-9244-e5c4890d9203"
      },
      "outputs": [
        {
          "output_type": "stream",
          "name": "stdout",
          "text": [
            "Found 10000 files belonging to 10 classes.\n",
            "Using 8000 files for training.\n",
            "Found 10000 files belonging to 10 classes.\n",
            "Using 2000 files for validation.\n",
            "['0', '1', '2', '3', '4', '5', '6', '7', '8', '9']\n",
            "0.0 1.0\n"
          ]
        }
      ],
      "source": [
        "train_ds, val_ds, model = buildModel(dataset_path)                              # Build model"
      ]
    },
    {
      "cell_type": "markdown",
      "source": [
        "SECTION: TRAINING\n",
        "\n",
        "NOTE: This section is for training the model and **will** be included in the training time."
      ],
      "metadata": {
        "id": "jkmG2r1VAula"
      }
    },
    {
      "cell_type": "code",
      "source": [
        "import time\n",
        "\n",
        "start = time.time()\n",
        "\n",
        "model.fit(                                                                      # Train model\n",
        "  train_ds,\n",
        "  validation_data=val_ds,\n",
        "  epochs=epochs,\n",
        "  verbose=0\n",
        ")\n",
        "\n",
        "end = time.time()\n",
        "timer = end - start\n",
        "print(timer)"
      ],
      "metadata": {
        "colab": {
          "base_uri": "https://localhost:8080/"
        },
        "id": "gm-D7iqUAqXW",
        "outputId": "70178e86-66bc-4c91-a296-af00b269eb53"
      },
      "execution_count": 27,
      "outputs": [
        {
          "output_type": "stream",
          "name": "stdout",
          "text": [
            "hello\n",
            "0.0001506805419921875\n"
          ]
        },
        {
          "output_type": "stream",
          "name": "stderr",
          "text": [
            "/usr/local/lib/python3.10/dist-packages/keras/src/backend/tensorflow/nn.py:609: UserWarning: \"`sparse_categorical_crossentropy` received `from_logits=True`, but the `output` argument was produced by a Softmax activation and thus does not represent logits. Was this intended?\n",
            "  output, from_logits = _get_logits(\n"
          ]
        },
        {
          "output_type": "execute_result",
          "data": {
            "text/plain": [
              "<keras.src.callbacks.history.History at 0x794470cd8c10>"
            ]
          },
          "metadata": {},
          "execution_count": 27
        }
      ]
    },
    {
      "cell_type": "markdown",
      "source": [
        "SECTION: TESTING\n",
        "\n",
        "NOTE: This section is for testing the accuracy of the model and will not be included in the training time."
      ],
      "metadata": {
        "id": "VRS2N6AgBiW8"
      }
    },
    {
      "cell_type": "code",
      "execution_count": 19,
      "metadata": {
        "id": "pkGelHqopqWz",
        "colab": {
          "base_uri": "https://localhost:8080/",
          "height": 531
        },
        "outputId": "96452328-48ba-4199-9d3e-6da1369e1d09"
      },
      "outputs": [
        {
          "output_type": "display_data",
          "data": {
            "text/plain": [
              "\u001b[1mModel: \"sequential\"\u001b[0m\n"
            ],
            "text/html": [
              "<pre style=\"white-space:pre;overflow-x:auto;line-height:normal;font-family:Menlo,'DejaVu Sans Mono',consolas,'Courier New',monospace\"><span style=\"font-weight: bold\">Model: \"sequential\"</span>\n",
              "</pre>\n"
            ]
          },
          "metadata": {}
        },
        {
          "output_type": "display_data",
          "data": {
            "text/plain": [
              "┏━━━━━━━━━━━━━━━━━━━━━━━━━━━━━━━━━━━━━━┳━━━━━━━━━━━━━━━━━━━━━━━━━━━━━┳━━━━━━━━━━━━━━━━━┓\n",
              "┃\u001b[1m \u001b[0m\u001b[1mLayer (type)                        \u001b[0m\u001b[1m \u001b[0m┃\u001b[1m \u001b[0m\u001b[1mOutput Shape               \u001b[0m\u001b[1m \u001b[0m┃\u001b[1m \u001b[0m\u001b[1m        Param #\u001b[0m\u001b[1m \u001b[0m┃\n",
              "┡━━━━━━━━━━━━━━━━━━━━━━━━━━━━━━━━━━━━━━╇━━━━━━━━━━━━━━━━━━━━━━━━━━━━━╇━━━━━━━━━━━━━━━━━┩\n",
              "│ rescaling_1 (\u001b[38;5;33mRescaling\u001b[0m)              │ (\u001b[38;5;45mNone\u001b[0m, \u001b[38;5;34m28\u001b[0m, \u001b[38;5;34m28\u001b[0m, \u001b[38;5;34m3\u001b[0m)           │               \u001b[38;5;34m0\u001b[0m │\n",
              "├──────────────────────────────────────┼─────────────────────────────┼─────────────────┤\n",
              "│ conv2d (\u001b[38;5;33mConv2D\u001b[0m)                      │ (\u001b[38;5;45mNone\u001b[0m, \u001b[38;5;34m26\u001b[0m, \u001b[38;5;34m26\u001b[0m, \u001b[38;5;34m32\u001b[0m)          │             \u001b[38;5;34m896\u001b[0m │\n",
              "├──────────────────────────────────────┼─────────────────────────────┼─────────────────┤\n",
              "│ max_pooling2d (\u001b[38;5;33mMaxPooling2D\u001b[0m)         │ (\u001b[38;5;45mNone\u001b[0m, \u001b[38;5;34m13\u001b[0m, \u001b[38;5;34m13\u001b[0m, \u001b[38;5;34m32\u001b[0m)          │               \u001b[38;5;34m0\u001b[0m │\n",
              "├──────────────────────────────────────┼─────────────────────────────┼─────────────────┤\n",
              "│ conv2d_1 (\u001b[38;5;33mConv2D\u001b[0m)                    │ (\u001b[38;5;45mNone\u001b[0m, \u001b[38;5;34m11\u001b[0m, \u001b[38;5;34m11\u001b[0m, \u001b[38;5;34m32\u001b[0m)          │           \u001b[38;5;34m9,248\u001b[0m │\n",
              "├──────────────────────────────────────┼─────────────────────────────┼─────────────────┤\n",
              "│ max_pooling2d_1 (\u001b[38;5;33mMaxPooling2D\u001b[0m)       │ (\u001b[38;5;45mNone\u001b[0m, \u001b[38;5;34m5\u001b[0m, \u001b[38;5;34m5\u001b[0m, \u001b[38;5;34m32\u001b[0m)            │               \u001b[38;5;34m0\u001b[0m │\n",
              "├──────────────────────────────────────┼─────────────────────────────┼─────────────────┤\n",
              "│ conv2d_2 (\u001b[38;5;33mConv2D\u001b[0m)                    │ (\u001b[38;5;45mNone\u001b[0m, \u001b[38;5;34m3\u001b[0m, \u001b[38;5;34m3\u001b[0m, \u001b[38;5;34m32\u001b[0m)            │           \u001b[38;5;34m9,248\u001b[0m │\n",
              "├──────────────────────────────────────┼─────────────────────────────┼─────────────────┤\n",
              "│ max_pooling2d_2 (\u001b[38;5;33mMaxPooling2D\u001b[0m)       │ (\u001b[38;5;45mNone\u001b[0m, \u001b[38;5;34m1\u001b[0m, \u001b[38;5;34m1\u001b[0m, \u001b[38;5;34m32\u001b[0m)            │               \u001b[38;5;34m0\u001b[0m │\n",
              "├──────────────────────────────────────┼─────────────────────────────┼─────────────────┤\n",
              "│ flatten (\u001b[38;5;33mFlatten\u001b[0m)                    │ (\u001b[38;5;45mNone\u001b[0m, \u001b[38;5;34m32\u001b[0m)                  │               \u001b[38;5;34m0\u001b[0m │\n",
              "├──────────────────────────────────────┼─────────────────────────────┼─────────────────┤\n",
              "│ dense (\u001b[38;5;33mDense\u001b[0m)                        │ (\u001b[38;5;45mNone\u001b[0m, \u001b[38;5;34m4096\u001b[0m)                │         \u001b[38;5;34m135,168\u001b[0m │\n",
              "├──────────────────────────────────────┼─────────────────────────────┼─────────────────┤\n",
              "│ dense_1 (\u001b[38;5;33mDense\u001b[0m)                      │ (\u001b[38;5;45mNone\u001b[0m, \u001b[38;5;34m10\u001b[0m)                  │          \u001b[38;5;34m40,970\u001b[0m │\n",
              "└──────────────────────────────────────┴─────────────────────────────┴─────────────────┘\n"
            ],
            "text/html": [
              "<pre style=\"white-space:pre;overflow-x:auto;line-height:normal;font-family:Menlo,'DejaVu Sans Mono',consolas,'Courier New',monospace\">┏━━━━━━━━━━━━━━━━━━━━━━━━━━━━━━━━━━━━━━┳━━━━━━━━━━━━━━━━━━━━━━━━━━━━━┳━━━━━━━━━━━━━━━━━┓\n",
              "┃<span style=\"font-weight: bold\"> Layer (type)                         </span>┃<span style=\"font-weight: bold\"> Output Shape                </span>┃<span style=\"font-weight: bold\">         Param # </span>┃\n",
              "┡━━━━━━━━━━━━━━━━━━━━━━━━━━━━━━━━━━━━━━╇━━━━━━━━━━━━━━━━━━━━━━━━━━━━━╇━━━━━━━━━━━━━━━━━┩\n",
              "│ rescaling_1 (<span style=\"color: #0087ff; text-decoration-color: #0087ff\">Rescaling</span>)              │ (<span style=\"color: #00d7ff; text-decoration-color: #00d7ff\">None</span>, <span style=\"color: #00af00; text-decoration-color: #00af00\">28</span>, <span style=\"color: #00af00; text-decoration-color: #00af00\">28</span>, <span style=\"color: #00af00; text-decoration-color: #00af00\">3</span>)           │               <span style=\"color: #00af00; text-decoration-color: #00af00\">0</span> │\n",
              "├──────────────────────────────────────┼─────────────────────────────┼─────────────────┤\n",
              "│ conv2d (<span style=\"color: #0087ff; text-decoration-color: #0087ff\">Conv2D</span>)                      │ (<span style=\"color: #00d7ff; text-decoration-color: #00d7ff\">None</span>, <span style=\"color: #00af00; text-decoration-color: #00af00\">26</span>, <span style=\"color: #00af00; text-decoration-color: #00af00\">26</span>, <span style=\"color: #00af00; text-decoration-color: #00af00\">32</span>)          │             <span style=\"color: #00af00; text-decoration-color: #00af00\">896</span> │\n",
              "├──────────────────────────────────────┼─────────────────────────────┼─────────────────┤\n",
              "│ max_pooling2d (<span style=\"color: #0087ff; text-decoration-color: #0087ff\">MaxPooling2D</span>)         │ (<span style=\"color: #00d7ff; text-decoration-color: #00d7ff\">None</span>, <span style=\"color: #00af00; text-decoration-color: #00af00\">13</span>, <span style=\"color: #00af00; text-decoration-color: #00af00\">13</span>, <span style=\"color: #00af00; text-decoration-color: #00af00\">32</span>)          │               <span style=\"color: #00af00; text-decoration-color: #00af00\">0</span> │\n",
              "├──────────────────────────────────────┼─────────────────────────────┼─────────────────┤\n",
              "│ conv2d_1 (<span style=\"color: #0087ff; text-decoration-color: #0087ff\">Conv2D</span>)                    │ (<span style=\"color: #00d7ff; text-decoration-color: #00d7ff\">None</span>, <span style=\"color: #00af00; text-decoration-color: #00af00\">11</span>, <span style=\"color: #00af00; text-decoration-color: #00af00\">11</span>, <span style=\"color: #00af00; text-decoration-color: #00af00\">32</span>)          │           <span style=\"color: #00af00; text-decoration-color: #00af00\">9,248</span> │\n",
              "├──────────────────────────────────────┼─────────────────────────────┼─────────────────┤\n",
              "│ max_pooling2d_1 (<span style=\"color: #0087ff; text-decoration-color: #0087ff\">MaxPooling2D</span>)       │ (<span style=\"color: #00d7ff; text-decoration-color: #00d7ff\">None</span>, <span style=\"color: #00af00; text-decoration-color: #00af00\">5</span>, <span style=\"color: #00af00; text-decoration-color: #00af00\">5</span>, <span style=\"color: #00af00; text-decoration-color: #00af00\">32</span>)            │               <span style=\"color: #00af00; text-decoration-color: #00af00\">0</span> │\n",
              "├──────────────────────────────────────┼─────────────────────────────┼─────────────────┤\n",
              "│ conv2d_2 (<span style=\"color: #0087ff; text-decoration-color: #0087ff\">Conv2D</span>)                    │ (<span style=\"color: #00d7ff; text-decoration-color: #00d7ff\">None</span>, <span style=\"color: #00af00; text-decoration-color: #00af00\">3</span>, <span style=\"color: #00af00; text-decoration-color: #00af00\">3</span>, <span style=\"color: #00af00; text-decoration-color: #00af00\">32</span>)            │           <span style=\"color: #00af00; text-decoration-color: #00af00\">9,248</span> │\n",
              "├──────────────────────────────────────┼─────────────────────────────┼─────────────────┤\n",
              "│ max_pooling2d_2 (<span style=\"color: #0087ff; text-decoration-color: #0087ff\">MaxPooling2D</span>)       │ (<span style=\"color: #00d7ff; text-decoration-color: #00d7ff\">None</span>, <span style=\"color: #00af00; text-decoration-color: #00af00\">1</span>, <span style=\"color: #00af00; text-decoration-color: #00af00\">1</span>, <span style=\"color: #00af00; text-decoration-color: #00af00\">32</span>)            │               <span style=\"color: #00af00; text-decoration-color: #00af00\">0</span> │\n",
              "├──────────────────────────────────────┼─────────────────────────────┼─────────────────┤\n",
              "│ flatten (<span style=\"color: #0087ff; text-decoration-color: #0087ff\">Flatten</span>)                    │ (<span style=\"color: #00d7ff; text-decoration-color: #00d7ff\">None</span>, <span style=\"color: #00af00; text-decoration-color: #00af00\">32</span>)                  │               <span style=\"color: #00af00; text-decoration-color: #00af00\">0</span> │\n",
              "├──────────────────────────────────────┼─────────────────────────────┼─────────────────┤\n",
              "│ dense (<span style=\"color: #0087ff; text-decoration-color: #0087ff\">Dense</span>)                        │ (<span style=\"color: #00d7ff; text-decoration-color: #00d7ff\">None</span>, <span style=\"color: #00af00; text-decoration-color: #00af00\">4096</span>)                │         <span style=\"color: #00af00; text-decoration-color: #00af00\">135,168</span> │\n",
              "├──────────────────────────────────────┼─────────────────────────────┼─────────────────┤\n",
              "│ dense_1 (<span style=\"color: #0087ff; text-decoration-color: #0087ff\">Dense</span>)                      │ (<span style=\"color: #00d7ff; text-decoration-color: #00d7ff\">None</span>, <span style=\"color: #00af00; text-decoration-color: #00af00\">10</span>)                  │          <span style=\"color: #00af00; text-decoration-color: #00af00\">40,970</span> │\n",
              "└──────────────────────────────────────┴─────────────────────────────┴─────────────────┘\n",
              "</pre>\n"
            ]
          },
          "metadata": {}
        },
        {
          "output_type": "display_data",
          "data": {
            "text/plain": [
              "\u001b[1m Total params: \u001b[0m\u001b[38;5;34m586,592\u001b[0m (2.24 MB)\n"
            ],
            "text/html": [
              "<pre style=\"white-space:pre;overflow-x:auto;line-height:normal;font-family:Menlo,'DejaVu Sans Mono',consolas,'Courier New',monospace\"><span style=\"font-weight: bold\"> Total params: </span><span style=\"color: #00af00; text-decoration-color: #00af00\">586,592</span> (2.24 MB)\n",
              "</pre>\n"
            ]
          },
          "metadata": {}
        },
        {
          "output_type": "display_data",
          "data": {
            "text/plain": [
              "\u001b[1m Trainable params: \u001b[0m\u001b[38;5;34m195,530\u001b[0m (763.79 KB)\n"
            ],
            "text/html": [
              "<pre style=\"white-space:pre;overflow-x:auto;line-height:normal;font-family:Menlo,'DejaVu Sans Mono',consolas,'Courier New',monospace\"><span style=\"font-weight: bold\"> Trainable params: </span><span style=\"color: #00af00; text-decoration-color: #00af00\">195,530</span> (763.79 KB)\n",
              "</pre>\n"
            ]
          },
          "metadata": {}
        },
        {
          "output_type": "display_data",
          "data": {
            "text/plain": [
              "\u001b[1m Non-trainable params: \u001b[0m\u001b[38;5;34m0\u001b[0m (0.00 B)\n"
            ],
            "text/html": [
              "<pre style=\"white-space:pre;overflow-x:auto;line-height:normal;font-family:Menlo,'DejaVu Sans Mono',consolas,'Courier New',monospace\"><span style=\"font-weight: bold\"> Non-trainable params: </span><span style=\"color: #00af00; text-decoration-color: #00af00\">0</span> (0.00 B)\n",
              "</pre>\n"
            ]
          },
          "metadata": {}
        },
        {
          "output_type": "display_data",
          "data": {
            "text/plain": [
              "\u001b[1m Optimizer params: \u001b[0m\u001b[38;5;34m391,062\u001b[0m (1.49 MB)\n"
            ],
            "text/html": [
              "<pre style=\"white-space:pre;overflow-x:auto;line-height:normal;font-family:Menlo,'DejaVu Sans Mono',consolas,'Courier New',monospace\"><span style=\"font-weight: bold\"> Optimizer params: </span><span style=\"color: #00af00; text-decoration-color: #00af00\">391,062</span> (1.49 MB)\n",
              "</pre>\n"
            ]
          },
          "metadata": {}
        },
        {
          "output_type": "stream",
          "name": "stdout",
          "text": [
            "\u001b[1m800/800\u001b[0m \u001b[32m━━━━━━━━━━━━━━━━━━━━\u001b[0m\u001b[37m\u001b[0m \u001b[1m1s\u001b[0m 2ms/step - accuracy: 0.9969 - loss: 0.0297\n",
            "\u001b[1m200/200\u001b[0m \u001b[32m━━━━━━━━━━━━━━━━━━━━\u001b[0m\u001b[37m\u001b[0m \u001b[1m1s\u001b[0m 3ms/step - accuracy: 0.9331 - loss: 1.8031\n"
          ]
        },
        {
          "output_type": "execute_result",
          "data": {
            "text/plain": [
              "[1.0553593635559082, 0.9470000267028809]"
            ]
          },
          "metadata": {},
          "execution_count": 19
        }
      ],
      "source": [
        "model.save(f\"{dataset}_{size}.keras\")\n",
        "model.summary()\n",
        "model.evaluate(train_ds)\n",
        "model.evaluate(val_ds)"
      ]
    },
    {
      "cell_type": "code",
      "execution_count": 20,
      "metadata": {
        "id": "sKALKq2qR8wg"
      },
      "outputs": [],
      "source": [
        "model = tf.keras.models.load_model(f\"{dataset}_{size}.keras\")"
      ]
    },
    {
      "cell_type": "code",
      "execution_count": 21,
      "metadata": {
        "id": "f6euQ4u4wqf0",
        "colab": {
          "base_uri": "https://localhost:8080/"
        },
        "outputId": "c2d05c4d-36e0-40e6-cf55-6277884c8bfd"
      },
      "outputs": [
        {
          "output_type": "stream",
          "name": "stdout",
          "text": [
            "Found 1000 files belonging to 10 classes.\n",
            "\u001b[1m32/32\u001b[0m \u001b[32m━━━━━━━━━━━━━━━━━━━━\u001b[0m\u001b[37m\u001b[0m \u001b[1m3s\u001b[0m 41ms/step - accuracy: 0.9562 - loss: 0.7482\n",
            "test loss, test acc: [0.8591647744178772, 0.949999988079071]\n"
          ]
        }
      ],
      "source": [
        "test_ds = tf.keras.utils.image_dataset_from_directory(\n",
        "  f\"/content/{dataset}_test/\",\n",
        "  image_size=(28,28))\n",
        "\n",
        "results = model.evaluate(test_ds)\n",
        "print(\"test loss, test acc:\", results)"
      ]
    },
    {
      "cell_type": "code",
      "execution_count": 22,
      "metadata": {
        "id": "ms0lnvUltILv"
      },
      "outputs": [],
      "source": [
        "def predict(model, image_path, image_class, class_names, verbose=False):\n",
        "  image = tf.keras.preprocessing.image.load_img(image_path, target_size=(28,28))\n",
        "  image = tf.keras.preprocessing.image.img_to_array(image)\n",
        "  image = np.expand_dims(image, axis = 0)\n",
        "\n",
        "  prediction = model.predict(image, verbose=verbose)\n",
        "  confidence = tf.nn.softmax(prediction[0]).numpy() * 100\n",
        "  predicted_class = np.argmax(prediction, axis=1)\n",
        "\n",
        "  if verbose:\n",
        "    print(image_path)\n",
        "    print(f\"Raw prediction: {prediction}\")\n",
        "    print(f\"Prediction confidence: {confidence}\")\n",
        "    print(f\"Class prediction: {class_names[str(predicted_class[0])]}\")\n",
        "    print(f\"Actual class: {image_class}\")\n",
        "    print(f\"Result: {1 if class_names[str(predicted_class[0])]==image_class else 0}\")\n",
        "\n",
        "  data = {\n",
        "      \"raw\": [prediction.flatten().tolist()],\n",
        "      \"confidence\": [confidence.flatten().tolist()],\n",
        "      \"prediction\": class_names[str(predicted_class[0])],\n",
        "      \"class\": image_class,\n",
        "      \"accuracy\": 1 if class_names[str(predicted_class[0])]==image_class else 0\n",
        "  }\n",
        "\n",
        "  df = pd.DataFrame(data, columns=list(data.keys()), index=[0])\n",
        "  return df"
      ]
    },
    {
      "cell_type": "code",
      "execution_count": 23,
      "metadata": {
        "colab": {
          "base_uri": "https://localhost:8080/"
        },
        "id": "XMkEU-EJLEu9",
        "outputId": "e08841b7-141c-4b0c-a04a-2dc18c8d7b6e"
      },
      "outputs": [
        {
          "output_type": "stream",
          "name": "stdout",
          "text": [
            "(1000, 3)\n"
          ]
        },
        {
          "output_type": "stream",
          "name": "stderr",
          "text": [
            "100%|██████████| 1000/1000 [00:59<00:00, 16.72it/s]"
          ]
        },
        {
          "output_type": "stream",
          "name": "stdout",
          "text": [
            "(1000, 5)\n"
          ]
        },
        {
          "output_type": "stream",
          "name": "stderr",
          "text": [
            "\n"
          ]
        }
      ],
      "source": [
        "image_data = pd.DataFrame(columns=[\"image_name\",\"image_class\",\"image_path\"])\n",
        "for dir in os.listdir(f\"/content/{dataset}_test/\"):\n",
        "  for image in os.listdir(f\"/content/{dataset}_test/{dir}/\"):\n",
        "    data = {\n",
        "        \"image_name\": f\"/content/{dataset}_test/{dir}/{image.replace('.png','')}\",\n",
        "        \"image_class\": dir,\n",
        "        \"image_path\": f\"/content/{dataset}_test/{dir}/{image}\"\n",
        "    }\n",
        "    df = pd.DataFrame(data,index=[0])\n",
        "    image_data = pd.concat([image_data, df],ignore_index=True)\n",
        "\n",
        "with open(f\"/content/{dataset}_{size}/class_names.json\", \"r\") as file:\n",
        "    class_names = json.load(file)\n",
        "\n",
        "results = pd.DataFrame(columns=[\"raw\",\"confidence\",\"prediction\",\"class\",\"accuracy\"])\n",
        "\n",
        "print(image_data.shape)\n",
        "\n",
        "for index, row in tqdm(image_data.iterrows(), total=len(image_data.index)):\n",
        "  # print(row)\n",
        "  pred = predict(model,row[\"image_path\"],row[\"image_class\"], class_names)\n",
        "  results = pd.concat([results,pred], ignore_index=True)\n",
        "\n",
        "print(results.shape)\n",
        "results.to_csv(f\"/content/{dataset}_{size}_results.csv\")"
      ]
    },
    {
      "cell_type": "code",
      "source": [
        "results"
      ],
      "metadata": {
        "colab": {
          "base_uri": "https://localhost:8080/",
          "height": 423
        },
        "id": "mHlOKYPuRxHi",
        "outputId": "af14be21-7f53-4887-eb8a-4b94ea524139"
      },
      "execution_count": 24,
      "outputs": [
        {
          "output_type": "execute_result",
          "data": {
            "text/plain": [
              "                                                   raw  \\\n",
              "0    [0.0, 0.0, 1.0, 4.63409402152217e-41, 0.0, 0.0...   \n",
              "1    [2.8103959953826803e-37, 4.27150655065448e-35,...   \n",
              "2    [0.0006200836505740881, 0.8257830142974854, 0....   \n",
              "3    [0.0, 0.0, 1.0, 0.0, 0.0, 0.0, 0.0, 2.28857696...   \n",
              "4    [3.436810430179356e-28, 9.831336340672864e-32,...   \n",
              "..                                                 ...   \n",
              "995  [0.9999878406524658, 1.1532617309045756e-12, 4...   \n",
              "996  [1.0, 0.0, 0.0, 0.0, 0.0, 0.0, 0.0, 0.0, 0.0, ...   \n",
              "997  [1.0, 0.0, 0.0, 0.0, 0.0, 0.0, 0.0, 0.0, 0.0, ...   \n",
              "998  [1.0, 0.0, 0.0, 0.0, 4.5421560175789166e-36, 1...   \n",
              "999  [1.0, 1.7060234607317153e-21, 1.91985348494941...   \n",
              "\n",
              "                                            confidence prediction class  \\\n",
              "0    [8.533675193786621, 8.533675193786621, 23.1969...          2     2   \n",
              "1    [8.533675193786621, 8.533675193786621, 23.1969...          2     2   \n",
              "2    [8.721098899841309, 19.903749465942383, 10.351...          1     2   \n",
              "3    [8.533675193786621, 8.533675193786621, 23.1969...          2     2   \n",
              "4    [8.533675193786621, 8.533675193786621, 23.1969...          2     2   \n",
              "..                                                 ...        ...   ...   \n",
              "995  [23.19668960571289, 8.533690452575684, 8.53369...          0     0   \n",
              "996  [23.196931838989258, 8.533675193786621, 8.5336...          0     0   \n",
              "997  [23.196931838989258, 8.533675193786621, 8.5336...          0     0   \n",
              "998  [23.196931838989258, 8.533675193786621, 8.5336...          0     0   \n",
              "999  [23.196931838989258, 8.533675193786621, 8.5336...          0     0   \n",
              "\n",
              "    accuracy  \n",
              "0          1  \n",
              "1          1  \n",
              "2          0  \n",
              "3          1  \n",
              "4          1  \n",
              "..       ...  \n",
              "995        1  \n",
              "996        1  \n",
              "997        1  \n",
              "998        1  \n",
              "999        1  \n",
              "\n",
              "[1000 rows x 5 columns]"
            ],
            "text/html": [
              "\n",
              "  <div id=\"df-514a0e17-eff6-4b68-a246-2c527c6813f2\" class=\"colab-df-container\">\n",
              "    <div>\n",
              "<style scoped>\n",
              "    .dataframe tbody tr th:only-of-type {\n",
              "        vertical-align: middle;\n",
              "    }\n",
              "\n",
              "    .dataframe tbody tr th {\n",
              "        vertical-align: top;\n",
              "    }\n",
              "\n",
              "    .dataframe thead th {\n",
              "        text-align: right;\n",
              "    }\n",
              "</style>\n",
              "<table border=\"1\" class=\"dataframe\">\n",
              "  <thead>\n",
              "    <tr style=\"text-align: right;\">\n",
              "      <th></th>\n",
              "      <th>raw</th>\n",
              "      <th>confidence</th>\n",
              "      <th>prediction</th>\n",
              "      <th>class</th>\n",
              "      <th>accuracy</th>\n",
              "    </tr>\n",
              "  </thead>\n",
              "  <tbody>\n",
              "    <tr>\n",
              "      <th>0</th>\n",
              "      <td>[0.0, 0.0, 1.0, 4.63409402152217e-41, 0.0, 0.0...</td>\n",
              "      <td>[8.533675193786621, 8.533675193786621, 23.1969...</td>\n",
              "      <td>2</td>\n",
              "      <td>2</td>\n",
              "      <td>1</td>\n",
              "    </tr>\n",
              "    <tr>\n",
              "      <th>1</th>\n",
              "      <td>[2.8103959953826803e-37, 4.27150655065448e-35,...</td>\n",
              "      <td>[8.533675193786621, 8.533675193786621, 23.1969...</td>\n",
              "      <td>2</td>\n",
              "      <td>2</td>\n",
              "      <td>1</td>\n",
              "    </tr>\n",
              "    <tr>\n",
              "      <th>2</th>\n",
              "      <td>[0.0006200836505740881, 0.8257830142974854, 0....</td>\n",
              "      <td>[8.721098899841309, 19.903749465942383, 10.351...</td>\n",
              "      <td>1</td>\n",
              "      <td>2</td>\n",
              "      <td>0</td>\n",
              "    </tr>\n",
              "    <tr>\n",
              "      <th>3</th>\n",
              "      <td>[0.0, 0.0, 1.0, 0.0, 0.0, 0.0, 0.0, 2.28857696...</td>\n",
              "      <td>[8.533675193786621, 8.533675193786621, 23.1969...</td>\n",
              "      <td>2</td>\n",
              "      <td>2</td>\n",
              "      <td>1</td>\n",
              "    </tr>\n",
              "    <tr>\n",
              "      <th>4</th>\n",
              "      <td>[3.436810430179356e-28, 9.831336340672864e-32,...</td>\n",
              "      <td>[8.533675193786621, 8.533675193786621, 23.1969...</td>\n",
              "      <td>2</td>\n",
              "      <td>2</td>\n",
              "      <td>1</td>\n",
              "    </tr>\n",
              "    <tr>\n",
              "      <th>...</th>\n",
              "      <td>...</td>\n",
              "      <td>...</td>\n",
              "      <td>...</td>\n",
              "      <td>...</td>\n",
              "      <td>...</td>\n",
              "    </tr>\n",
              "    <tr>\n",
              "      <th>995</th>\n",
              "      <td>[0.9999878406524658, 1.1532617309045756e-12, 4...</td>\n",
              "      <td>[23.19668960571289, 8.533690452575684, 8.53369...</td>\n",
              "      <td>0</td>\n",
              "      <td>0</td>\n",
              "      <td>1</td>\n",
              "    </tr>\n",
              "    <tr>\n",
              "      <th>996</th>\n",
              "      <td>[1.0, 0.0, 0.0, 0.0, 0.0, 0.0, 0.0, 0.0, 0.0, ...</td>\n",
              "      <td>[23.196931838989258, 8.533675193786621, 8.5336...</td>\n",
              "      <td>0</td>\n",
              "      <td>0</td>\n",
              "      <td>1</td>\n",
              "    </tr>\n",
              "    <tr>\n",
              "      <th>997</th>\n",
              "      <td>[1.0, 0.0, 0.0, 0.0, 0.0, 0.0, 0.0, 0.0, 0.0, ...</td>\n",
              "      <td>[23.196931838989258, 8.533675193786621, 8.5336...</td>\n",
              "      <td>0</td>\n",
              "      <td>0</td>\n",
              "      <td>1</td>\n",
              "    </tr>\n",
              "    <tr>\n",
              "      <th>998</th>\n",
              "      <td>[1.0, 0.0, 0.0, 0.0, 4.5421560175789166e-36, 1...</td>\n",
              "      <td>[23.196931838989258, 8.533675193786621, 8.5336...</td>\n",
              "      <td>0</td>\n",
              "      <td>0</td>\n",
              "      <td>1</td>\n",
              "    </tr>\n",
              "    <tr>\n",
              "      <th>999</th>\n",
              "      <td>[1.0, 1.7060234607317153e-21, 1.91985348494941...</td>\n",
              "      <td>[23.196931838989258, 8.533675193786621, 8.5336...</td>\n",
              "      <td>0</td>\n",
              "      <td>0</td>\n",
              "      <td>1</td>\n",
              "    </tr>\n",
              "  </tbody>\n",
              "</table>\n",
              "<p>1000 rows × 5 columns</p>\n",
              "</div>\n",
              "    <div class=\"colab-df-buttons\">\n",
              "\n",
              "  <div class=\"colab-df-container\">\n",
              "    <button class=\"colab-df-convert\" onclick=\"convertToInteractive('df-514a0e17-eff6-4b68-a246-2c527c6813f2')\"\n",
              "            title=\"Convert this dataframe to an interactive table.\"\n",
              "            style=\"display:none;\">\n",
              "\n",
              "  <svg xmlns=\"http://www.w3.org/2000/svg\" height=\"24px\" viewBox=\"0 -960 960 960\">\n",
              "    <path d=\"M120-120v-720h720v720H120Zm60-500h600v-160H180v160Zm220 220h160v-160H400v160Zm0 220h160v-160H400v160ZM180-400h160v-160H180v160Zm440 0h160v-160H620v160ZM180-180h160v-160H180v160Zm440 0h160v-160H620v160Z\"/>\n",
              "  </svg>\n",
              "    </button>\n",
              "\n",
              "  <style>\n",
              "    .colab-df-container {\n",
              "      display:flex;\n",
              "      gap: 12px;\n",
              "    }\n",
              "\n",
              "    .colab-df-convert {\n",
              "      background-color: #E8F0FE;\n",
              "      border: none;\n",
              "      border-radius: 50%;\n",
              "      cursor: pointer;\n",
              "      display: none;\n",
              "      fill: #1967D2;\n",
              "      height: 32px;\n",
              "      padding: 0 0 0 0;\n",
              "      width: 32px;\n",
              "    }\n",
              "\n",
              "    .colab-df-convert:hover {\n",
              "      background-color: #E2EBFA;\n",
              "      box-shadow: 0px 1px 2px rgba(60, 64, 67, 0.3), 0px 1px 3px 1px rgba(60, 64, 67, 0.15);\n",
              "      fill: #174EA6;\n",
              "    }\n",
              "\n",
              "    .colab-df-buttons div {\n",
              "      margin-bottom: 4px;\n",
              "    }\n",
              "\n",
              "    [theme=dark] .colab-df-convert {\n",
              "      background-color: #3B4455;\n",
              "      fill: #D2E3FC;\n",
              "    }\n",
              "\n",
              "    [theme=dark] .colab-df-convert:hover {\n",
              "      background-color: #434B5C;\n",
              "      box-shadow: 0px 1px 3px 1px rgba(0, 0, 0, 0.15);\n",
              "      filter: drop-shadow(0px 1px 2px rgba(0, 0, 0, 0.3));\n",
              "      fill: #FFFFFF;\n",
              "    }\n",
              "  </style>\n",
              "\n",
              "    <script>\n",
              "      const buttonEl =\n",
              "        document.querySelector('#df-514a0e17-eff6-4b68-a246-2c527c6813f2 button.colab-df-convert');\n",
              "      buttonEl.style.display =\n",
              "        google.colab.kernel.accessAllowed ? 'block' : 'none';\n",
              "\n",
              "      async function convertToInteractive(key) {\n",
              "        const element = document.querySelector('#df-514a0e17-eff6-4b68-a246-2c527c6813f2');\n",
              "        const dataTable =\n",
              "          await google.colab.kernel.invokeFunction('convertToInteractive',\n",
              "                                                    [key], {});\n",
              "        if (!dataTable) return;\n",
              "\n",
              "        const docLinkHtml = 'Like what you see? Visit the ' +\n",
              "          '<a target=\"_blank\" href=https://colab.research.google.com/notebooks/data_table.ipynb>data table notebook</a>'\n",
              "          + ' to learn more about interactive tables.';\n",
              "        element.innerHTML = '';\n",
              "        dataTable['output_type'] = 'display_data';\n",
              "        await google.colab.output.renderOutput(dataTable, element);\n",
              "        const docLink = document.createElement('div');\n",
              "        docLink.innerHTML = docLinkHtml;\n",
              "        element.appendChild(docLink);\n",
              "      }\n",
              "    </script>\n",
              "  </div>\n",
              "\n",
              "\n",
              "<div id=\"df-fda70c54-4ce6-41d5-9cf7-cec767b5f8f2\">\n",
              "  <button class=\"colab-df-quickchart\" onclick=\"quickchart('df-fda70c54-4ce6-41d5-9cf7-cec767b5f8f2')\"\n",
              "            title=\"Suggest charts\"\n",
              "            style=\"display:none;\">\n",
              "\n",
              "<svg xmlns=\"http://www.w3.org/2000/svg\" height=\"24px\"viewBox=\"0 0 24 24\"\n",
              "     width=\"24px\">\n",
              "    <g>\n",
              "        <path d=\"M19 3H5c-1.1 0-2 .9-2 2v14c0 1.1.9 2 2 2h14c1.1 0 2-.9 2-2V5c0-1.1-.9-2-2-2zM9 17H7v-7h2v7zm4 0h-2V7h2v10zm4 0h-2v-4h2v4z\"/>\n",
              "    </g>\n",
              "</svg>\n",
              "  </button>\n",
              "\n",
              "<style>\n",
              "  .colab-df-quickchart {\n",
              "      --bg-color: #E8F0FE;\n",
              "      --fill-color: #1967D2;\n",
              "      --hover-bg-color: #E2EBFA;\n",
              "      --hover-fill-color: #174EA6;\n",
              "      --disabled-fill-color: #AAA;\n",
              "      --disabled-bg-color: #DDD;\n",
              "  }\n",
              "\n",
              "  [theme=dark] .colab-df-quickchart {\n",
              "      --bg-color: #3B4455;\n",
              "      --fill-color: #D2E3FC;\n",
              "      --hover-bg-color: #434B5C;\n",
              "      --hover-fill-color: #FFFFFF;\n",
              "      --disabled-bg-color: #3B4455;\n",
              "      --disabled-fill-color: #666;\n",
              "  }\n",
              "\n",
              "  .colab-df-quickchart {\n",
              "    background-color: var(--bg-color);\n",
              "    border: none;\n",
              "    border-radius: 50%;\n",
              "    cursor: pointer;\n",
              "    display: none;\n",
              "    fill: var(--fill-color);\n",
              "    height: 32px;\n",
              "    padding: 0;\n",
              "    width: 32px;\n",
              "  }\n",
              "\n",
              "  .colab-df-quickchart:hover {\n",
              "    background-color: var(--hover-bg-color);\n",
              "    box-shadow: 0 1px 2px rgba(60, 64, 67, 0.3), 0 1px 3px 1px rgba(60, 64, 67, 0.15);\n",
              "    fill: var(--button-hover-fill-color);\n",
              "  }\n",
              "\n",
              "  .colab-df-quickchart-complete:disabled,\n",
              "  .colab-df-quickchart-complete:disabled:hover {\n",
              "    background-color: var(--disabled-bg-color);\n",
              "    fill: var(--disabled-fill-color);\n",
              "    box-shadow: none;\n",
              "  }\n",
              "\n",
              "  .colab-df-spinner {\n",
              "    border: 2px solid var(--fill-color);\n",
              "    border-color: transparent;\n",
              "    border-bottom-color: var(--fill-color);\n",
              "    animation:\n",
              "      spin 1s steps(1) infinite;\n",
              "  }\n",
              "\n",
              "  @keyframes spin {\n",
              "    0% {\n",
              "      border-color: transparent;\n",
              "      border-bottom-color: var(--fill-color);\n",
              "      border-left-color: var(--fill-color);\n",
              "    }\n",
              "    20% {\n",
              "      border-color: transparent;\n",
              "      border-left-color: var(--fill-color);\n",
              "      border-top-color: var(--fill-color);\n",
              "    }\n",
              "    30% {\n",
              "      border-color: transparent;\n",
              "      border-left-color: var(--fill-color);\n",
              "      border-top-color: var(--fill-color);\n",
              "      border-right-color: var(--fill-color);\n",
              "    }\n",
              "    40% {\n",
              "      border-color: transparent;\n",
              "      border-right-color: var(--fill-color);\n",
              "      border-top-color: var(--fill-color);\n",
              "    }\n",
              "    60% {\n",
              "      border-color: transparent;\n",
              "      border-right-color: var(--fill-color);\n",
              "    }\n",
              "    80% {\n",
              "      border-color: transparent;\n",
              "      border-right-color: var(--fill-color);\n",
              "      border-bottom-color: var(--fill-color);\n",
              "    }\n",
              "    90% {\n",
              "      border-color: transparent;\n",
              "      border-bottom-color: var(--fill-color);\n",
              "    }\n",
              "  }\n",
              "</style>\n",
              "\n",
              "  <script>\n",
              "    async function quickchart(key) {\n",
              "      const quickchartButtonEl =\n",
              "        document.querySelector('#' + key + ' button');\n",
              "      quickchartButtonEl.disabled = true;  // To prevent multiple clicks.\n",
              "      quickchartButtonEl.classList.add('colab-df-spinner');\n",
              "      try {\n",
              "        const charts = await google.colab.kernel.invokeFunction(\n",
              "            'suggestCharts', [key], {});\n",
              "      } catch (error) {\n",
              "        console.error('Error during call to suggestCharts:', error);\n",
              "      }\n",
              "      quickchartButtonEl.classList.remove('colab-df-spinner');\n",
              "      quickchartButtonEl.classList.add('colab-df-quickchart-complete');\n",
              "    }\n",
              "    (() => {\n",
              "      let quickchartButtonEl =\n",
              "        document.querySelector('#df-fda70c54-4ce6-41d5-9cf7-cec767b5f8f2 button');\n",
              "      quickchartButtonEl.style.display =\n",
              "        google.colab.kernel.accessAllowed ? 'block' : 'none';\n",
              "    })();\n",
              "  </script>\n",
              "</div>\n",
              "\n",
              "  <div id=\"id_3b6c1de2-6b82-483a-97ce-4079ba5c4828\">\n",
              "    <style>\n",
              "      .colab-df-generate {\n",
              "        background-color: #E8F0FE;\n",
              "        border: none;\n",
              "        border-radius: 50%;\n",
              "        cursor: pointer;\n",
              "        display: none;\n",
              "        fill: #1967D2;\n",
              "        height: 32px;\n",
              "        padding: 0 0 0 0;\n",
              "        width: 32px;\n",
              "      }\n",
              "\n",
              "      .colab-df-generate:hover {\n",
              "        background-color: #E2EBFA;\n",
              "        box-shadow: 0px 1px 2px rgba(60, 64, 67, 0.3), 0px 1px 3px 1px rgba(60, 64, 67, 0.15);\n",
              "        fill: #174EA6;\n",
              "      }\n",
              "\n",
              "      [theme=dark] .colab-df-generate {\n",
              "        background-color: #3B4455;\n",
              "        fill: #D2E3FC;\n",
              "      }\n",
              "\n",
              "      [theme=dark] .colab-df-generate:hover {\n",
              "        background-color: #434B5C;\n",
              "        box-shadow: 0px 1px 3px 1px rgba(0, 0, 0, 0.15);\n",
              "        filter: drop-shadow(0px 1px 2px rgba(0, 0, 0, 0.3));\n",
              "        fill: #FFFFFF;\n",
              "      }\n",
              "    </style>\n",
              "    <button class=\"colab-df-generate\" onclick=\"generateWithVariable('results')\"\n",
              "            title=\"Generate code using this dataframe.\"\n",
              "            style=\"display:none;\">\n",
              "\n",
              "  <svg xmlns=\"http://www.w3.org/2000/svg\" height=\"24px\"viewBox=\"0 0 24 24\"\n",
              "       width=\"24px\">\n",
              "    <path d=\"M7,19H8.4L18.45,9,17,7.55,7,17.6ZM5,21V16.75L18.45,3.32a2,2,0,0,1,2.83,0l1.4,1.43a1.91,1.91,0,0,1,.58,1.4,1.91,1.91,0,0,1-.58,1.4L9.25,21ZM18.45,9,17,7.55Zm-12,3A5.31,5.31,0,0,0,4.9,8.1,5.31,5.31,0,0,0,1,6.5,5.31,5.31,0,0,0,4.9,4.9,5.31,5.31,0,0,0,6.5,1,5.31,5.31,0,0,0,8.1,4.9,5.31,5.31,0,0,0,12,6.5,5.46,5.46,0,0,0,6.5,12Z\"/>\n",
              "  </svg>\n",
              "    </button>\n",
              "    <script>\n",
              "      (() => {\n",
              "      const buttonEl =\n",
              "        document.querySelector('#id_3b6c1de2-6b82-483a-97ce-4079ba5c4828 button.colab-df-generate');\n",
              "      buttonEl.style.display =\n",
              "        google.colab.kernel.accessAllowed ? 'block' : 'none';\n",
              "\n",
              "      buttonEl.onclick = () => {\n",
              "        google.colab.notebook.generateWithVariable('results');\n",
              "      }\n",
              "      })();\n",
              "    </script>\n",
              "  </div>\n",
              "\n",
              "    </div>\n",
              "  </div>\n"
            ],
            "application/vnd.google.colaboratory.intrinsic+json": {
              "type": "dataframe",
              "variable_name": "results",
              "summary": "{\n  \"name\": \"results\",\n  \"rows\": 1000,\n  \"fields\": [\n    {\n      \"column\": \"raw\",\n      \"properties\": {\n        \"dtype\": \"object\",\n        \"semantic_type\": \"\",\n        \"description\": \"\"\n      }\n    },\n    {\n      \"column\": \"confidence\",\n      \"properties\": {\n        \"dtype\": \"object\",\n        \"semantic_type\": \"\",\n        \"description\": \"\"\n      }\n    },\n    {\n      \"column\": \"prediction\",\n      \"properties\": {\n        \"dtype\": \"category\",\n        \"num_unique_values\": 10,\n        \"samples\": [\n          \"3\",\n          \"1\",\n          \"5\"\n        ],\n        \"semantic_type\": \"\",\n        \"description\": \"\"\n      }\n    },\n    {\n      \"column\": \"class\",\n      \"properties\": {\n        \"dtype\": \"category\",\n        \"num_unique_values\": 10,\n        \"samples\": [\n          \"8\",\n          \"1\",\n          \"3\"\n        ],\n        \"semantic_type\": \"\",\n        \"description\": \"\"\n      }\n    },\n    {\n      \"column\": \"accuracy\",\n      \"properties\": {\n        \"dtype\": \"date\",\n        \"min\": 0,\n        \"max\": 1,\n        \"num_unique_values\": 2,\n        \"samples\": [\n          0,\n          1\n        ],\n        \"semantic_type\": \"\",\n        \"description\": \"\"\n      }\n    }\n  ]\n}"
            }
          },
          "metadata": {},
          "execution_count": 24
        }
      ]
    },
    {
      "cell_type": "code",
      "source": [
        "print((results[\"accuracy\"].value_counts()[1] / 1000) * 100)"
      ],
      "metadata": {
        "colab": {
          "base_uri": "https://localhost:8080/"
        },
        "id": "Lqk_BIAjSuhm",
        "outputId": "1260dabe-4ff2-40ff-9b52-8c448ee895f5"
      },
      "execution_count": 25,
      "outputs": [
        {
          "output_type": "stream",
          "name": "stdout",
          "text": [
            "95.0\n"
          ]
        }
      ]
    },
    {
      "source": [
        "from matplotlib import pyplot as plt\n",
        "import seaborn as sns\n",
        "results.groupby('accuracy').size().plot(kind='barh', color=sns.palettes.mpl_palette('Dark2'))\n",
        "plt.gca().spines[['top', 'right',]].set_visible(False)"
      ],
      "cell_type": "code",
      "metadata": {
        "colab": {
          "base_uri": "https://localhost:8080/",
          "height": 430
        },
        "id": "12Jb3l0-SBIB",
        "outputId": "c21fd71e-ed08-4965-ae03-a63d03b6c4d3"
      },
      "execution_count": 26,
      "outputs": [
        {
          "output_type": "display_data",
          "data": {
            "text/plain": [
              "<Figure size 640x480 with 1 Axes>"
            ],
            "image/png": "[encoded data removed]"
          },
          "metadata": {}
        }
      ]
    }
  ],
  "metadata": {
    "accelerator": "GPU",
    "colab": {
      "gpuType": "T4",
      "provenance": [],
      "authorship_tag": "ABX9TyPrEhMDJ9MeeWM/KKOA7S8f",
      "include_colab_link": true
    },
    "kernelspec": {
      "display_name": "Python 3",
      "name": "python3"
    },
    "language_info": {
      "name": "python"
    }
  },
  "nbformat": 4,
  "nbformat_minor": 0
}